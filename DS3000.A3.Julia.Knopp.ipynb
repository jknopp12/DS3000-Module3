{
 "cells": [
  {
   "cell_type": "markdown",
   "metadata": {},
   "source": [
    "# DS 3000 - Assignment 3\n",
    "\n",
    "**Student Name**: Julia Knopp\n",
    "\n",
    "**Date**: 9/21/23\n",
    "\n",
    "\n",
    "### Submission Instructions\n",
    "Submit this `ipynb` file to canvas.\n",
    "\n",
    "The `ipynb` format stores outputs from the last time you ran the notebook.  (When you open a notebook it has the figures and outputs of the last time you ran it too).  To ensure that your submitted `ipynb` file represents your latest code, make sure to give a fresh run `Kernel > Restart & Run All` just before uploading the `ipynb` file to Canvas.\n",
    "\n",
    "### Academic Integrity\n",
    "\n",
    "**Writing your homework is an individual effort.**  You may discuss general python problems with other students but under no circumstances should you observe another student's code which was written for this assignment, from this year or past years.  Pop into office hours or DM us in MS Teams if you have a specific question about your work or if you would like another pair of eyes or talk through your code.\n",
    "\n",
    "Don't forget to cite websites which helped you solve a problem in a unique way.  You can do this in markdown near the code or with a simple one-line comment. You do not need to cite the official python documentation.\n",
    "\n",
    "**Documentation / style counts for credit**  Please refer to the Pep-8 style, to improve the readability and consistency of your Python code. For more information, read the following article [How to Write Beautiful Python Code With PEP 8](https://realpython.com/python-pep8/) or ask your TA's for tips.\n",
    "\n",
    "**NOTE:<span style='color:red'> Write python expressions to answer ALL questions below and ensure that you use the `print()` function to display the output.</span>** Each question should be answered in a new code cell. For example, your solution for question 1.1 should be in a different code cell from your solution for question 1.2."
   ]
  },
  {
   "cell_type": "markdown",
   "metadata": {},
   "source": [
    "## Question 1: \n",
    "\n",
    "The data that you are working with contains the exam grades and the overall grade for students who took a statistics course at a university. Write python code to answer the questions below and ensure that you round all numeric calculations to 2 decimal places. \n",
    "\n",
    "(2pts) Load the attached data into a numpy array: exam_grades.csv\n",
    "\n",
    "(1pt) How many observations and columns are in the data set?\n",
    "\n",
    "(2pts) What is the minimum and maximum overall course grade for the statistics course (i.e. for the entire data set).\n",
    "\n",
    "(5pts) What time period (e.g. years) does the data set cover? Note: only display unique years (do not display duplicates).\n",
    "\n",
    "(10 pts) For each year that you identified above, count the number of students who took the course each year.\n",
    "\n",
    "(20 pts) For each year that you identified above, calculate the minimum, maximum, mean and standard deviation for each of the three exam scores. Summarize your findings.\n"
   ]
  },
  {
   "cell_type": "code",
   "execution_count": 111,
   "metadata": {},
   "outputs": [],
   "source": [
    "#import numpy\n",
    "import numpy as np"
   ]
  },
  {
   "cell_type": "code",
   "execution_count": 112,
   "metadata": {},
   "outputs": [
    {
     "name": "stdout",
     "output_type": "stream",
     "text": [
      "[[2000.       84.5      69.5      86.5      76.2564]\n",
      " [2000.       80.       74.       67.       75.3882]\n",
      " [2000.       56.       70.       71.5      67.0564]\n",
      " ...\n",
      " [2003.       97.1429   53.5      67.2222   72.1189]\n",
      " [2003.       85.       63.       75.       67.1996]\n",
      " [2003.       72.8571   48.5      90.5556   66.4035]]\n"
     ]
    }
   ],
   "source": [
    "#loading in the csv file\n",
    "file_name = 'exam_grades.csv'\n",
    "data = np.loadtxt(file_name, delimiter=',', skiprows=1)\n",
    "print(data)"
   ]
  },
  {
   "cell_type": "code",
   "execution_count": 113,
   "metadata": {},
   "outputs": [
    {
     "name": "stdout",
     "output_type": "stream",
     "text": [
      "The number of observations in the dataset is: 233\n",
      "The number of columns in the dataset is: 5\n"
     ]
    }
   ],
   "source": [
    "# How many observations and columns are in the data set?\n",
    "\n",
    "# create the shape of the array\n",
    "num_rows, num_columns = data.shape\n",
    "# print statements that reveal the number of rows recorded and the number of columns\n",
    "print(f'The number of observations in the dataset is: {num_rows}')\n",
    "print(f'The number of columns in the dataset is: {num_columns}')"
   ]
  },
  {
   "cell_type": "code",
   "execution_count": 114,
   "metadata": {},
   "outputs": [
    {
     "name": "stdout",
     "output_type": "stream",
     "text": [
      "The minimum overall course grade for the statistics course was 43.27\n",
      "The maximum overall course grade for the statistics course was 97.57\n"
     ]
    }
   ],
   "source": [
    "# What is the minimum and maximum overall course grade for the statistics course\n",
    "\n",
    "# retrive the minimum grade from the 'course_grade' column\n",
    "min_grade = data[:,4].min()\n",
    "# round the answer to two decimal places\n",
    "rounded_min_grade = round(min_grade, 2)\n",
    "# print a statement that summarizes findings\n",
    "print(f'The minimum overall course grade for the statistics course was', rounded_min_grade)\n",
    "\n",
    "# retrive the maximum grade from the 'course_grade' column\n",
    "max_grade = data[:,4].max()\n",
    "# round the answer to two decimal places\n",
    "rounded_max_grade = round(max_grade, 2)\n",
    "# print a statement that summarizes findings\n",
    "print(f'The maximum overall course grade for the statistics course was', rounded_max_grade)"
   ]
  },
  {
   "cell_type": "code",
   "execution_count": 115,
   "metadata": {},
   "outputs": [
    {
     "name": "stdout",
     "output_type": "stream",
     "text": [
      "{2000.0, 2001.0, 2002.0, 2003.0}\n"
     ]
    }
   ],
   "source": [
    "# What time period does the data set cover? Note: only display unique years.\n",
    "\n",
    "# retrive the data from the 'years' column\n",
    "years = data[:,0]\n",
    "# use the 'set' function to remove duplicate values\n",
    "unique_years = (set(years))\n",
    "# print an array containing a list of the possible years\n",
    "print(unique_years)"
   ]
  },
  {
   "cell_type": "code",
   "execution_count": 116,
   "metadata": {},
   "outputs": [
    {
     "ename": "TypeError",
     "evalue": "'list' object is not callable",
     "output_type": "error",
     "traceback": [
      "\u001b[0;31m---------------------------------------------------------------------------\u001b[0m",
      "\u001b[0;31mTypeError\u001b[0m                                 Traceback (most recent call last)",
      "\u001b[0;32m/var/folders/k3/n35xvs2x43qdtcppxd1hkjyw0000gn/T/ipykernel_7877/2210381413.py\u001b[0m in \u001b[0;36m<module>\u001b[0;34m\u001b[0m\n\u001b[1;32m      4\u001b[0m \u001b[0myears\u001b[0m \u001b[0;34m=\u001b[0m \u001b[0mdata\u001b[0m\u001b[0;34m[\u001b[0m\u001b[0;34m:\u001b[0m\u001b[0;34m,\u001b[0m\u001b[0;36m0\u001b[0m\u001b[0;34m]\u001b[0m\u001b[0;34m\u001b[0m\u001b[0;34m\u001b[0m\u001b[0m\n\u001b[1;32m      5\u001b[0m \u001b[0;31m# create a list of the years to preform the 'count' operation\u001b[0m\u001b[0;34m\u001b[0m\u001b[0;34m\u001b[0m\u001b[0m\n\u001b[0;32m----> 6\u001b[0;31m \u001b[0myears_list\u001b[0m \u001b[0;34m=\u001b[0m \u001b[0mlist\u001b[0m\u001b[0;34m(\u001b[0m\u001b[0myears\u001b[0m\u001b[0;34m)\u001b[0m\u001b[0;34m\u001b[0m\u001b[0;34m\u001b[0m\u001b[0m\n\u001b[0m\u001b[1;32m      7\u001b[0m \u001b[0;31m# find how many times the year 2000 was listed as an input to find the number of students who took the course\u001b[0m\u001b[0;34m\u001b[0m\u001b[0;34m\u001b[0m\u001b[0m\n\u001b[1;32m      8\u001b[0m \u001b[0mcount2000\u001b[0m \u001b[0;34m=\u001b[0m \u001b[0myears_list\u001b[0m\u001b[0;34m.\u001b[0m\u001b[0mcount\u001b[0m\u001b[0;34m(\u001b[0m\u001b[0;36m2000\u001b[0m\u001b[0;34m)\u001b[0m\u001b[0;34m\u001b[0m\u001b[0;34m\u001b[0m\u001b[0m\n",
      "\u001b[0;31mTypeError\u001b[0m: 'list' object is not callable"
     ]
    }
   ],
   "source": [
    "# For each year that you identified above, count the number of students who took the course each year.\n",
    "\n",
    "# retrive the entire years column to analyze\n",
    "years = data[:,0]\n",
    "# create a list of the years to preform the 'count' operation\n",
    "years_list = list(years)\n",
    "# find how many times the year 2000 was listed as an input to find the number of students who took the course\n",
    "count2000 = years_list.count(2000)\n",
    "print(f'The number of students that took the course in 2000 was', count2000)\n",
    "# find how many times the year 2001 was listed as an input to find the number of students who took the course\n",
    "count2001 = years_list.count(2001)\n",
    "print(f'The number of students that took the course in 2001 was', count2001)\n",
    "# find how many times the year 2002 was listed as an input to find the number of students who took the course\n",
    "count2002 = years_list.count(2002)\n",
    "print(f'The number of students that took the course in 2002 was', count2002)\n",
    "# find how many times the year 2003 was listed as an input to find the number of students who took the course\n",
    "count2003 = years_list.count(2003)\n",
    "print(f'The number of students that took the course in 2003 was', count2003)"
   ]
  },
  {
   "cell_type": "code",
   "execution_count": 117,
   "metadata": {},
   "outputs": [
    {
     "name": "stdout",
     "output_type": "stream",
     "text": [
      "Statistics for 2000\n",
      "Exam 1\n",
      "The minimum score was: 46.5 \n",
      "The maximum score was 96.0 \n",
      "The mean was 74.49 \n",
      "The standard deviation was 11.39 \n",
      "Exam 2\n",
      "The minimum score was: 41.0 \n",
      "The maximum score was 99.5 \n",
      "The mean was 74.19 \n",
      "The standard deviation was 13.02 \n",
      "Exam 3\n",
      "The minimum score was: 28.0 \n",
      "The maximum score was 97.0 \n",
      "The mean was 73.23 \n",
      "The standard deviation was 15.7\n",
      "\n",
      "\n",
      "Statistics for 2001\n",
      "Exam 1\n",
      "The minimum score was: 58.0 \n",
      "The maximum score was 98.0 \n",
      "The mean was 85.01 \n",
      "The standard deviation was 8.37 \n",
      "Exam 2\n",
      "The minimum score was: 41.5 \n",
      "The maximum score was 96.5 \n",
      "The mean was 71.36 \n",
      "The standard deviation was 13.27 \n",
      "Exam 3\n",
      "The minimum score was: 36.4 \n",
      "The maximum score was 98.5 \n",
      "The mean was 72.74 \n",
      "The standard deviation was 13.19\n",
      "\n",
      "\n",
      "Statistics for 2002\n",
      "Exam 1\n",
      "The minimum score was: 59.0 \n",
      "The maximum score was 99.3 \n",
      "The mean was 82.12 \n",
      "The standard deviation was 9.8 \n",
      "Exam 2\n",
      "The minimum score was: 47.0 \n",
      "The maximum score was 98.0 \n",
      "The mean was 76.27 \n",
      "The standard deviation was 13.77 \n",
      "Exam 3\n",
      "The minimum score was: 58.0 \n",
      "The maximum score was 98.5 \n",
      "The mean was 84.92 \n",
      "The standard deviation was 7.79\n",
      "\n",
      "\n",
      "Statistics for 2003\n",
      "Exam 1\n",
      "The minimum score was: 0.0 \n",
      "The maximum score was 98.21 \n",
      "The mean was 83.34 \n",
      "The standard deviation was 16.59 \n",
      "Exam 2\n",
      "The minimum score was: 38.0 \n",
      "The maximum score was 94.5 \n",
      "The mean was 67.76 \n",
      "The standard deviation was 14.68 \n",
      "Exam 3\n",
      "The minimum score was: 30.0 \n",
      "The maximum score was 98.89 \n",
      "The mean was 77.11 \n",
      "The standard deviation was 16.18\n",
      "\n",
      "\n",
      "Analysis:\n",
      "Based on the findings, by breaking the data down year by year, we can see...\n",
      "for 2000, the scores stayed fairly consistent between all three exams\n",
      "for 2001, the score for exam 1 was better than the prior year, for exams 2 and 3 the grades dropped back\n",
      "for 2002, scores for all exams overall improved and the standard deviations were lower than prior years\n",
      "in 2003, scores between exams varied and standard deviations were high, indicating scores for an exam were scattered\n"
     ]
    }
   ],
   "source": [
    "# For each year that you identified above, \n",
    "# calculate the minimum, maximum, mean and standard deviation for each of the three exam scores. \n",
    "# Summarize your findings.\n",
    "\n",
    "# look at data where the year is 2000\n",
    "y2k = data[data[:,0] == 2000]\n",
    "# find the minimum, maximum, mean and standard deviation for exam 1\n",
    "y2k_exam1 = y2k[:,1]\n",
    "y2k_exam1_min = round(y2k_exam1.min(), 2)\n",
    "y2k_exam1_max = round(y2k_exam1.max(), 2)\n",
    "y2k_exam1_mean = round(y2k_exam1.mean(), 2)\n",
    "y2k_exam1_sd = round(y2k_exam1.std(), 2)\n",
    "# find the minimum, maximum, mean and standard deviation for exam 2\n",
    "y2k_exam2 = y2k[:,2]\n",
    "y2k_exam2_min = round(y2k_exam2.min(), 2)\n",
    "y2k_exam2_max = round(y2k_exam2.max(), 2)\n",
    "y2k_exam2_mean = round(y2k_exam2.mean(), 2)\n",
    "y2k_exam2_sd = round(y2k_exam2.std(), 2)\n",
    "# find the minimum, maximum, mean and standard deviation for exam 3\n",
    "y2k_exam3 = y2k[:,3]\n",
    "y2k_exam3_min = round(y2k_exam3.min(), 2)\n",
    "y2k_exam3_max = round(y2k_exam3.max(), 2)\n",
    "y2k_exam3_mean = round(y2k_exam3.mean(), 2)\n",
    "y2k_exam3_sd = round(y2k_exam3.std(), 2)\n",
    "# print the findings for 2000\n",
    "print(f'Statistics for 2000\\n'\n",
    "      'Exam 1\\n'\n",
    "      'The minimum score was:', y2k_exam1_min, \n",
    "      '\\nThe maximum score was', y2k_exam1_max, \n",
    "      '\\nThe mean was', y2k_exam1_mean,\n",
    "      '\\nThe standard deviation was', y2k_exam1_sd,\n",
    "      '\\nExam 2\\n'\n",
    "      'The minimum score was:', y2k_exam2_min, \n",
    "      '\\nThe maximum score was', y2k_exam2_max, \n",
    "      '\\nThe mean was', y2k_exam2_mean,\n",
    "      '\\nThe standard deviation was', y2k_exam2_sd,\n",
    "      '\\nExam 3\\n'\n",
    "      'The minimum score was:', y2k_exam3_min, \n",
    "      '\\nThe maximum score was', y2k_exam3_max, \n",
    "      '\\nThe mean was', y2k_exam3_mean,\n",
    "      '\\nThe standard deviation was', y2k_exam3_sd)\n",
    "\n",
    "# for the year 2001\n",
    "y2k1 = data[data[:,0] == 2001]\n",
    "# find the minimum, maximum, mean and standard deviation for exam 1\n",
    "y2k1_exam1 = y2k1[:,1]\n",
    "y2k1_exam1_min = round(y2k1_exam1.min(), 2)\n",
    "y2k1_exam1_max = round(y2k1_exam1.max(), 2)\n",
    "y2k1_exam1_mean = round(y2k1_exam1.mean(), 2)\n",
    "y2k1_exam1_sd = round(y2k1_exam1.std(), 2)\n",
    "# find the minimum, maximum, mean and standard deviation for exam 2\n",
    "y2k1_exam2 = y2k1[:,2]\n",
    "y2k1_exam2_min = round(y2k1_exam2.min(), 2)\n",
    "y2k1_exam2_max = round(y2k1_exam2.max(), 2)\n",
    "y2k1_exam2_mean = round(y2k1_exam2.mean(), 2)\n",
    "y2k1_exam2_sd = round(y2k1_exam2.std(), 2)\n",
    "# find the minimum, maximum, mean and standard deviation for exam 3\n",
    "y2k1_exam3 = y2k1[:,3]\n",
    "y2k1_exam3_min = round(y2k1_exam3.min(), 2)\n",
    "y2k1_exam3_max = round(y2k1_exam3.max(), 2)\n",
    "y2k1_exam3_mean = round(y2k1_exam3.mean(), 2)\n",
    "y2k1_exam3_sd = round(y2k1_exam3.std(), 2)\n",
    "# print the findings for 2001\n",
    "print(f'\\n\\nStatistics for 2001\\n'\n",
    "      'Exam 1\\n'\n",
    "      'The minimum score was:', y2k1_exam1_min, \n",
    "      '\\nThe maximum score was', y2k1_exam1_max, \n",
    "      '\\nThe mean was', y2k1_exam1_mean,\n",
    "      '\\nThe standard deviation was', y2k1_exam1_sd,\n",
    "      '\\nExam 2\\n'\n",
    "      'The minimum score was:', y2k1_exam2_min, \n",
    "      '\\nThe maximum score was', y2k1_exam2_max, \n",
    "      '\\nThe mean was', y2k1_exam2_mean,\n",
    "      '\\nThe standard deviation was', y2k1_exam2_sd,\n",
    "      '\\nExam 3\\n'\n",
    "      'The minimum score was:', y2k1_exam3_min, \n",
    "      '\\nThe maximum score was', y2k1_exam3_max, \n",
    "      '\\nThe mean was', y2k1_exam3_mean,\n",
    "      '\\nThe standard deviation was', y2k1_exam3_sd)\n",
    "\n",
    "# for the year 2002\n",
    "y2k2 = data[data[:,0] == 2002]\n",
    "# find the minimum, maximum, mean and standard deviation for exam 1\n",
    "y2k2_exam1 = y2k2[:,1]\n",
    "y2k2_exam1_min = round(y2k2_exam1.min(), 2)\n",
    "y2k2_exam1_max = round(y2k2_exam1.max(), 2)\n",
    "y2k2_exam1_mean = round(y2k2_exam1.mean(), 2)\n",
    "y2k2_exam1_sd = round(y2k2_exam1.std(), 2)\n",
    "# find the minimum, maximum, mean and standard deviation for exam 2\n",
    "y2k2_exam2 = y2k2[:,2]\n",
    "y2k2_exam2_min = round(y2k2_exam2.min(), 2)\n",
    "y2k2_exam2_max = round(y2k2_exam2.max(), 2)\n",
    "y2k2_exam2_mean = round(y2k2_exam2.mean(), 2)\n",
    "y2k2_exam2_sd = round(y2k2_exam2.std(), 2)\n",
    "# find the minimum, maximum, mean and standard deviation for exam 3\n",
    "y2k2_exam3 = y2k2[:,3]\n",
    "y2k2_exam3_min = round(y2k2_exam3.min(), 2)\n",
    "y2k2_exam3_max = round(y2k2_exam3.max(), 2)\n",
    "y2k2_exam3_mean = round(y2k2_exam3.mean(), 2)\n",
    "y2k2_exam3_sd = round(y2k2_exam3.std(), 2)\n",
    "# print the findings for 2002\n",
    "print(f'\\n\\nStatistics for 2002\\n'\n",
    "      'Exam 1\\n'\n",
    "      'The minimum score was:', y2k2_exam1_min, \n",
    "      '\\nThe maximum score was', y2k2_exam1_max, \n",
    "      '\\nThe mean was', y2k2_exam1_mean,\n",
    "      '\\nThe standard deviation was', y2k2_exam1_sd,\n",
    "      '\\nExam 2\\n'\n",
    "      'The minimum score was:', y2k2_exam2_min, \n",
    "      '\\nThe maximum score was', y2k2_exam2_max, \n",
    "      '\\nThe mean was', y2k2_exam2_mean,\n",
    "      '\\nThe standard deviation was', y2k2_exam2_sd,\n",
    "      '\\nExam 3\\n'\n",
    "      'The minimum score was:', y2k2_exam3_min, \n",
    "      '\\nThe maximum score was', y2k2_exam3_max, \n",
    "      '\\nThe mean was', y2k2_exam3_mean,\n",
    "      '\\nThe standard deviation was', y2k2_exam3_sd)\n",
    "\n",
    "# for the year 2003\n",
    "y2k3 = data[data[:,0] == 2003]\n",
    "# find the minimum, maximum, mean and standard deviation for exam 1\n",
    "y2k3_exam1 = y2k3[:,1]\n",
    "y2k3_exam1_min = round(y2k3_exam1.min(), 2)\n",
    "y2k3_exam1_max = round(y2k3_exam1.max(), 2)\n",
    "y2k3_exam1_mean = round(y2k3_exam1.mean(), 2)\n",
    "y2k3_exam1_sd = round(y2k3_exam1.std(), 2)\n",
    "# find the minimum, maximum, mean and standard deviation for exam 2\n",
    "y2k3_exam2 = y2k3[:,2]\n",
    "y2k3_exam2_min = round(y2k3_exam2.min(), 2)\n",
    "y2k3_exam2_max = round(y2k3_exam2.max(), 2)\n",
    "y2k3_exam2_mean = round(y2k3_exam2.mean(), 2)\n",
    "y2k3_exam2_sd = round(y2k3_exam2.std(), 2)\n",
    "# find the minimum, maximum, mean and standard deviation for exam 3\n",
    "y2k3_exam3 = y2k3[:,3]\n",
    "y2k3_exam3_min = round(y2k3_exam3.min(), 2)\n",
    "y2k3_exam3_max = round(y2k3_exam3.max(), 2)\n",
    "y2k3_exam3_mean = round(y2k3_exam3.mean(), 2)\n",
    "y2k3_exam3_sd = round(y2k3_exam3.std(), 2)\n",
    "# print the findings for 2003\n",
    "print(f'\\n\\nStatistics for 2003\\n'\n",
    "      'Exam 1\\n'\n",
    "      'The minimum score was:', y2k3_exam1_min, \n",
    "      '\\nThe maximum score was', y2k3_exam1_max, \n",
    "      '\\nThe mean was', y2k3_exam1_mean,\n",
    "      '\\nThe standard deviation was', y2k3_exam1_sd,\n",
    "      '\\nExam 2\\n'\n",
    "      'The minimum score was:', y2k3_exam2_min, \n",
    "      '\\nThe maximum score was', y2k3_exam2_max, \n",
    "      '\\nThe mean was', y2k3_exam2_mean,\n",
    "      '\\nThe standard deviation was', y2k3_exam2_sd,\n",
    "      '\\nExam 3\\n'\n",
    "      'The minimum score was:', y2k3_exam3_min, \n",
    "      '\\nThe maximum score was', y2k3_exam3_max, \n",
    "      '\\nThe mean was', y2k3_exam3_mean,\n",
    "      '\\nThe standard deviation was', y2k3_exam3_sd)\n",
    "\n",
    "# overall analysis of the data\n",
    "print('\\n\\nAnalysis:\\n'\n",
    "     'Based on the findings, by breaking the data down year by year, we can see...\\n'\n",
    "     'for 2000, the scores stayed fairly consistent between all three exams\\n'\n",
    "     'for 2001, the score for exam 1 was better than the prior year, for exams 2 and 3 the grades dropped back\\n'\n",
    "     'for 2002, scores for all exams overall improved and the standard deviations were lower than prior years\\n'\n",
    "     'in 2003, scores between exams varied and standard deviations were high, indicating scores for an exam were scattered')"
   ]
  },
  {
   "cell_type": "markdown",
   "metadata": {},
   "source": [
    "## Question 2: \n",
    "Based on the required reading (and/or any other resources that you prefer), compare and contrast numpy arrays with python lists.\n",
    "\n",
    "Write python code that contains a simple example which demonstrates one of the differences that you found. note: do not use the same example as the tutorial. Ensure that you cite any resources in a markdown cell.\n"
   ]
  },
  {
   "cell_type": "code",
   "execution_count": 119,
   "metadata": {},
   "outputs": [
    {
     "name": "stdout",
     "output_type": "stream",
     "text": [
      "Based on the module, python lists and numpy arrays have some advantages and disadvantages.\n",
      "The main difference that I found between these data structures is that python lists can contain\n",
      "any combination of datatypes while a numpy array is strict about only containing one datatype.\n",
      "Because of this, it is easier and quicker to perform operations on the elements of a numpy array.\n",
      "\n",
      "Some other differences are that numpy arrays can be multidimensional (1-D, 2-D, etc)\n",
      "while python can only be one-dimensional./nFrom the module, we also learned about the expansive numpy library,\n",
      "in comparison, lists do not utilize as many built-in functions.\n"
     ]
    }
   ],
   "source": [
    "print('Based on the module, python lists and numpy arrays have some advantages and disadvantages.\\n'\n",
    "      'The main difference that I found between these data structures is that python lists can contain\\n'\n",
    "      'any combination of datatypes while a numpy array is strict about only containing one datatype.\\n'\n",
    "      'Because of this, it is easier and quicker to perform operations on the elements of a numpy array.\\n')\n",
    "\n",
    "print('Some other differences are that numpy arrays can be multidimensional (1-D, 2-D, etc)\\n'\n",
    "      'while python can only be one-dimensional./n'\n",
    "      'From the module, we also learned about the expansive numpy library,\\n'\n",
    "      'in comparison, lists do not utilize as many built-in functions.')"
   ]
  },
  {
   "cell_type": "code",
   "execution_count": 120,
   "metadata": {},
   "outputs": [
    {
     "name": "stdout",
     "output_type": "stream",
     "text": [
      "Python lists do not support this operation\n",
      "[0 1 2 3 4]\n"
     ]
    }
   ],
   "source": [
    "# create a list\n",
    "list = [1, 2, 3, 4, 5]\n",
    "\n",
    "try:\n",
    "    # try decreasing each element in list by 1\n",
    "    list = list - 1\n",
    "    print(list)\n",
    "except(TypeError):\n",
    "    # return error if operation cannot be completed\n",
    "    print('Python lists do not support this operation')\n",
    "    \n",
    "# create a numpy array with the same values\n",
    "numpy_array = np.arange(1,6)\n",
    "\n",
    "try:\n",
    "    # try decreasing each element in list by 1\n",
    "    numpy_array = numpy_array - 1\n",
    "    print(numpy_array)\n",
    "except(TypeError):\n",
    "    # return error if operation cannot be completed\n",
    "    print('Numpy arrays do not support this operation')\n",
    "    \n",
    "# as we can see, the list is not able to perform this operation while the numpy array is"
   ]
  },
  {
   "cell_type": "markdown",
   "metadata": {},
   "source": [
    "resources: https://www.geeksforgeeks.org/python-lists-vs-numpy-arrays/#"
   ]
  },
  {
   "cell_type": "markdown",
   "metadata": {},
   "source": [
    "## Helpful resources \n",
    "Don't forget to cite websites which helped you solve a problem in a unique way.  You can do this in markdown near the code or with a simple one-line comment inside the code cell, or you can list them below. \n",
    "\n",
    "You do not need to cite the official python documentation.\n"
   ]
  }
 ],
 "metadata": {
  "kernelspec": {
   "display_name": "Python 3 (ipykernel)",
   "language": "python",
   "name": "python3"
  },
  "language_info": {
   "codemirror_mode": {
    "name": "ipython",
    "version": 3
   },
   "file_extension": ".py",
   "mimetype": "text/x-python",
   "name": "python",
   "nbconvert_exporter": "python",
   "pygments_lexer": "ipython3",
   "version": "3.9.13"
  }
 },
 "nbformat": 4,
 "nbformat_minor": 4
}
